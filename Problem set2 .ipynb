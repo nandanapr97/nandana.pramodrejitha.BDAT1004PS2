{
 "cells": [
  {
   "cell_type": "markdown",
   "id": "a1bc676d",
   "metadata": {},
   "source": [
    "Question 1\n"
   ]
  },
  {
   "cell_type": "code",
   "execution_count": 85,
   "id": "b478e7d2",
   "metadata": {},
   "outputs": [
    {
     "data": {
      "text/plain": [
       "6"
      ]
     },
     "execution_count": 85,
     "metadata": {},
     "output_type": "execute_result"
    }
   ],
   "source": [
    "a = 0\n",
    "\n",
    "def b():\n",
    "    global a\n",
    "    a = c(a)\n",
    "    \n",
    "def c(a):\n",
    "    return a + 2\n",
    "\n",
    "b()\n",
    "b()\n",
    "b()\n",
    "a\n"
   ]
  },
  {
   "cell_type": "markdown",
   "id": "6b15b5d3",
   "metadata": {},
   "source": [
    "When the last a is executed, we get the value 6.\n",
    "\n",
    "Steps:\n",
    "\n",
    "1.A module is imported, which defines a global variable, 'a', and two functions, 'b' and 'c'.The value of a is intialized to 0.\n",
    "\n",
    "2.Inside b() ,global 'a' is modified.By calling c(a), 'a' is updated. C(a) function returns 'a+2'.\n",
    "\n",
    "3.When b() is executed for the first time, it will modify the global variable 'a',(a=0) , so, c(a) will return a+2 = 2.So, first   b(a) will give the value ,a=2.\n",
    "\n",
    "4.When b() is executed for the second time, it will again modify the global variable 'a',(now, a=2) , so, c(a) will return a+2     =2+2=4. So, first   b(a) will give the value ,a=4.\n",
    "\n",
    "5.When b() is executed for the third time, it will again modify the global variable 'a',(now, a=4) , so, c(a) will return a+2     =4+2=6. So, first   b(a) will give the value ,a=6.\n",
    "\n",
    "6.So, when is evaluated, after the three calls of funtion b(), a will give value 6.\n"
   ]
  },
  {
   "cell_type": "markdown",
   "id": "1d8f6781",
   "metadata": {},
   "source": [
    "Question 2\n"
   ]
  },
  {
   "cell_type": "code",
   "execution_count": 86,
   "id": "1d78c99d",
   "metadata": {
    "scrolled": true
   },
   "outputs": [
    {
     "name": "stdout",
     "output_type": "stream",
     "text": [
      "File Filelength not found.\n",
      "File ilelength not found.\n"
     ]
    }
   ],
   "source": [
    "def file_length(Filelength):\n",
    "    try:\n",
    "        with open(Filelength, 'r') as file:\n",
    "            contents = file.read()\n",
    "            print(len(contents))\n",
    "    except FileNotFoundError:\n",
    "        print(f\"File {Filelength} not found.\")\n",
    "\n",
    "\n",
    "file_length('Filelength')\n",
    "file_length('ilelength')\n"
   ]
  },
  {
   "cell_type": "markdown",
   "id": "37601da8",
   "metadata": {},
   "source": [
    "Question 3\n",
    "\n"
   ]
  },
  {
   "cell_type": "code",
   "execution_count": 96,
   "id": "60e6cbc4",
   "metadata": {},
   "outputs": [
    {
     "name": "stdout",
     "output_type": "stream",
     "text": [
      "Marsupial contents:\n",
      "['doll', 'firetruck', 'kitten']\n",
      "\n",
      "Kangaroo initial location:\n",
      "I am a Kangaroo located at coordinates (0,0)\n",
      "\n",
      "Kangaroo contents:\n",
      "['doll', 'firetruck', 'kitten']\n",
      "\n",
      "Kangaroo location after movement:\n",
      "I am a Kangaroo located at coordinates (3,0)\n"
     ]
    }
   ],
   "source": [
    "class Marsupial:\n",
    "    def __init__(self): #Defines constructor method for marsupial\n",
    "        self.pouch = [] #Initialize an empty list\n",
    "\n",
    "    def put_in_pouch(self, item): # Defines a method to add items\n",
    "        self.pouch.append(item)\n",
    "\n",
    "    def pouch_contents(self): #Defines a method pouch_contents to retrieve contents\n",
    "        return self.pouch\n",
    "    \n",
    "\n",
    "m = Marsupial()\n",
    "\n",
    "m.put_in_pouch('doll')\n",
    "m.put_in_pouch('firetruck')\n",
    "m.put_in_pouch('kitten')\n",
    "\n",
    "print(\"Marsupial contents:\")\n",
    "print(m.pouch_contents())\n",
    "print()\n",
    "\n",
    "\n",
    "class Kangaroo(Marsupial):\n",
    "    def __init__(self, x, y):\n",
    "        super().__init__()  # Call the constructor of the parent class \"Marsupial'\"\n",
    "       \n",
    "        # Initialize attributes for position of kangaroo\n",
    "        self.x = x \n",
    "        self.y = y\n",
    "\n",
    "    def jump(self, dx, dy): #Define jump method to move kangaroos position\n",
    "        self.x += dx\n",
    "        self.y += dy\n",
    "\n",
    "    def __str__(self):\n",
    "        return f'I am a Kangaroo located at coordinates ({self.x},{self.y})'\n",
    "\n",
    "\n",
    "k = Kangaroo(0, 0)\n",
    "print(\"Kangaroo initial location:\")\n",
    "print(k)\n",
    "print()\n",
    "\n",
    "k.put_in_pouch('doll')\n",
    "k.put_in_pouch('firetruck')\n",
    "k.put_in_pouch('kitten')\n",
    "\n",
    "print(\"Kangaroo contents:\")\n",
    "print(k.pouch_contents())\n",
    "print()\n",
    "\n",
    "k.jump(1, 0)\n",
    "k.jump(1, 0)\n",
    "k.jump(1, 0)\n",
    "\n",
    "print(\"Kangaroo location after movement:\")\n",
    "print(k)\n"
   ]
  },
  {
   "cell_type": "markdown",
   "id": "53139dcc",
   "metadata": {},
   "source": [
    "Question 4\n"
   ]
  },
  {
   "cell_type": "code",
   "execution_count": 103,
   "id": "5aa4ad82",
   "metadata": {},
   "outputs": [
    {
     "name": "stdout",
     "output_type": "stream",
     "text": [
      "for x = 1:\n",
      "1\n",
      "\n",
      "for x = 10:\n",
      "10\n",
      "5\n",
      "16\n",
      "8\n",
      "4\n",
      "2\n",
      "1\n"
     ]
    }
   ],
   "source": [
    "def collatz(x): #Define function collatz\n",
    "    print(x)\n",
    "    if x == 1: # for x=1, return 1\n",
    "        return\n",
    "    elif x % 2 == 0: # for even numbers, return value of x/2\n",
    "        collatz(x // 2)\n",
    "    else:\n",
    "        collatz(3 * x + 1) # for odd numbers , return value of 3x+1\n",
    "\n",
    "print(\"for x = 1:\")\n",
    "collatz(1)\n",
    "print()\n",
    "\n",
    "print(\"for x = 10:\")\n",
    "collatz(10)\n"
   ]
  },
  {
   "cell_type": "markdown",
   "id": "2148af89",
   "metadata": {},
   "source": [
    "Question 5\n"
   ]
  },
  {
   "cell_type": "code",
   "execution_count": 48,
   "id": "30ae79d7",
   "metadata": {},
   "outputs": [
    {
     "name": "stdout",
     "output_type": "stream",
     "text": [
      "binary value of 0 is:\n",
      "0\n",
      "binary value of 1 is:\n",
      "1\n",
      "binary value of 3 is:\n",
      "11\n",
      "binary value of 9 is:\n",
      "1001\n"
     ]
    }
   ],
   "source": [
    "def binary(n):\n",
    "    if n == 0:\n",
    "        print(0, end='')\n",
    "    elif n == 1:\n",
    "        print(1, end='')\n",
    "    else:\n",
    "        binary(n // 2)  # Recursive call to print the binary representation of n // 2\n",
    "        print(n % 2, end='')\n",
    "\n",
    "print(\"binary value of 0 is:\")\n",
    "binary(0)  \n",
    "print()\n",
    "\n",
    "print(\"binary value of 1 is:\")\n",
    "binary(1)\n",
    "print()\n",
    "\n",
    "print(\"binary value of 3 is:\")\n",
    "binary(3) \n",
    "print()\n",
    "\n",
    "print(\"binary value of 9 is:\")\n",
    "binary(9) \n",
    "print()\n"
   ]
  },
  {
   "cell_type": "markdown",
   "id": "0882a7bc",
   "metadata": {},
   "source": [
    "Question 8\n"
   ]
  },
  {
   "cell_type": "code",
   "execution_count": 83,
   "id": "e7127206",
   "metadata": {},
   "outputs": [
    {
     "name": "stdout",
     "output_type": "stream",
     "text": [
      "a) All the temperature data:\n",
      "[(24.8,), (28.4,), (27.9,), (27.6,), (4.2,), (8.3,), (15.7,), (10.4,), (13.6,), (20.7,), (27.7,), (22.2,)]\n",
      "\n",
      "b) All the cities, but without repetition:\n",
      "[('Mumbai',), ('London',), ('Cairo',)]\n",
      "\n",
      "c) All the records for India:\n",
      "[('Mumbai', 'India', 'Winter', 24.8, 5.9), ('Mumbai', 'India', 'Spring', 28.4, 16.2), ('Mumbai', 'India', 'Summer', 27.9, 1549.4), ('Mumbai', 'India', 'Fall', 27.6, 346.0)]\n",
      "\n",
      "d) All the Fall records:\n",
      "[('Mumbai', 'India', 'Fall', 27.6, 346.0), ('London', 'United Kingdom', 'Fall', 10.4, 218.5), ('Cairo', 'Egypt', 'Fall', 22.2, 4.5)]\n",
      "\n",
      "e) The city, country, and season for which the average rainfall is between 200 and 400 millimeters:\n",
      "[('London', 'United Kingdom', 'Fall'), ('London', 'United Kingdom', 'Winter'), ('Mumbai', 'India', 'Fall')]\n",
      "\n",
      "f) The city and country for which the average Fall temperature is above 20 degrees, in increasing temperature order:\n",
      "[('Cairo', 'Egypt'), ('Mumbai', 'India')]\n",
      "\n",
      "g) The total annual rainfall for Cairo:\n",
      "[(27.6,)]\n",
      "\n",
      "h) The total rainfall for each season:\n",
      "[('Fall', 569.0), ('Spring', 192.29999999999998), ('Summer', 1706.5), ('Winter', 230.1)]\n"
     ]
    }
   ],
   "source": [
    "import sqlite3\n",
    "\n",
    "\n",
    "conn = sqlite3.connect('Weatherdata.db')# Create a SQLite database: Weatherdata.db\n",
    "cursor = conn.cursor()\n",
    "\n",
    "cursor.execute('DROP TABLE IF EXISTS weather_data') # Drop table if it already exists\n",
    "\n",
    "cursor.execute('''CREATE TABLE weather_data\n",
    "                (City TEXT,\n",
    "                Country TEXT, \n",
    "                Season TEXT,\n",
    "                Temperature FLOAT, \n",
    "                Rainfall FLOAT)''') # Create the table\n",
    "\n",
    "\n",
    "table = [\n",
    "    ('Mumbai', 'India', 'Winter', 24.8, 5.9),\n",
    "    ('Mumbai', 'India', 'Spring', 28.4, 16.2),\n",
    "    ('Mumbai', 'India', 'Summer', 27.9, 1549.4),\n",
    "    ('Mumbai', 'India', 'Fall', 27.6, 346.0),\n",
    "    ('London', 'United Kingdom', 'Winter', 4.2, 207.7),\n",
    "    ('London', 'United Kingdom', 'Spring', 8.3, 169.6),\n",
    "    ('London', 'United Kingdom', 'Summer', 15.7, 157.0),\n",
    "    ('London', 'United Kingdom', 'Fall', 10.4, 218.5),\n",
    "    ('Cairo', 'Egypt', 'Winter', 13.6, 16.5),\n",
    "    ('Cairo', 'Egypt', 'Spring', 20.7, 6.5),\n",
    "    ('Cairo', 'Egypt', 'Summer', 27.7, 0.1),\n",
    "    ('Cairo', 'Egypt', 'Fall', 22.2, 4.5)\n",
    "]\n",
    "\n",
    "cursor.executemany(\"INSERT INTO weather_data VALUES (?, ?, ?, ?, ?)\", table)\n",
    "\n",
    "\n",
    "# a) All the temperature data.\n",
    "cursor.execute(\"SELECT Temperature FROM weather_data\")\n",
    "table1 = cursor.fetchall()\n",
    "print(\"a) All the temperature data:\")\n",
    "print(table1)\n",
    "print()\n",
    "\n",
    "# b) All the cities, but without repetition.\n",
    "cursor.execute(\"SELECT DISTINCT City FROM weather_data\")\n",
    "table2 = cursor.fetchall()\n",
    "print(\"b) All the cities, but without repetition:\")\n",
    "print(table2)\n",
    "print()\n",
    "\n",
    "# c) All the records for India.\n",
    "cursor.execute(\"SELECT * FROM weather_data WHERE Country = 'India'\")\n",
    "table3 = cursor.fetchall()\n",
    "print(\"c) All the records for India:\")\n",
    "print(table3)\n",
    "print()\n",
    "\n",
    "# d) All the Fall records.\n",
    "cursor.execute(\"SELECT * FROM weather_data WHERE Season = 'Fall'\")\n",
    "table4 = cursor.fetchall()\n",
    "print(\"d) All the Fall records:\")\n",
    "print(table4)\n",
    "print()\n",
    "\n",
    "# e) The city, country, and season for which the average rainfall is between 200 and 400 millimeters.\n",
    "cursor.execute(\"SELECT City, Country, Season FROM weather_data GROUP BY City, Country, Season HAVING AVG(Rainfall) BETWEEN 200 AND 400\")\n",
    "table5 = cursor.fetchall()\n",
    "print(\"e) The city, country, and season for which the average rainfall is between 200 and 400 millimeters:\")\n",
    "print(table5)\n",
    "print()\n",
    "\n",
    "# f) The city and country for which the average Fall temperature is above 20 degrees, in increasing temperature order.\n",
    "cursor.execute(\"SELECT City, Country FROM weather_data WHERE Season = 'Fall' GROUP BY City, Country HAVING AVG(Temperature) > 20 ORDER BY AVG(Temperature) ASC\")\n",
    "table6 = cursor.fetchall()\n",
    "print(\"f) The city and country for which the average Fall temperature is above 20 degrees, in increasing temperature order:\")\n",
    "print(table6)\n",
    "print()\n",
    "\n",
    "# g) The total annual rainfall for Cairo.\n",
    "cursor.execute(\"SELECT SUM(Rainfall) AS TotalRainfall FROM weather_data WHERE City = 'Cairo'\")\n",
    "table7 = cursor.fetchall()\n",
    "print(\"g) The total annual rainfall for Cairo:\")\n",
    "print(table7)\n",
    "print()\n",
    "\n",
    "# h) The total rainfall for each season.\n",
    "cursor.execute(\"SELECT Season, SUM(Rainfall) AS TotalRainfall FROM weather_data GROUP BY Season\")\n",
    "table8 = cursor.fetchall()\n",
    "print(\"h) The total rainfall for each season:\")\n",
    "print(table8)\n",
    "\n",
    "\n",
    "conn.commit() # Commit the changes \n",
    "conn.close() # close the connection\n",
    "\n",
    "\n",
    "\n"
   ]
  },
  {
   "cell_type": "markdown",
   "id": "b499172f",
   "metadata": {},
   "source": [
    "Question 9\n"
   ]
  },
  {
   "cell_type": "code",
   "execution_count": 63,
   "id": "033a9b3b",
   "metadata": {},
   "outputs": [
    {
     "name": "stdout",
     "output_type": "stream",
     "text": [
      "a) Each letter of words in uppercase:\n",
      "['THE', 'QUICK', 'BROWN', 'FOX', 'JUMPS', 'OVER', 'THE', 'LAZY', 'DOG']\n",
      "\n",
      "b) Each letter of words in lowercase:\n",
      "['the', 'quick', 'brown', 'fox', 'jumps', 'over', 'the', 'lazy', 'dog']\n",
      "\n",
      "c) The list of lengths of words in list words \n",
      "[3, 5, 5, 3, 5, 4, 3, 4, 3]\n",
      "\n",
      "d) list for every word of list words, where each list contains the word in uppercase and lowercase and the length of the word:  \n",
      "[['THE', 'the', 3], ['QUICK', 'quick', 5], ['BROWN', 'brown', 5], ['FOX', 'fox', 3], ['JUMPS', 'jumps', 5], ['OVER', 'over', 4], ['THE', 'the', 3], ['LAZY', 'lazy', 4], ['DOG', 'dog', 3]]\n",
      "\n",
      "e) the list of words in list words containing 4 or more characters \n",
      "['quick', 'brown', 'jumps', 'over', 'lazy']\n"
     ]
    }
   ],
   "source": [
    "words = ['The', 'quick', 'brown', 'fox', 'jumps', 'over', 'the', 'lazy', 'dog']\n",
    "\n",
    "print(\"a) Each letter of words in uppercase:\")\n",
    "list1 = [word.upper() for word in words]  #converts a string to uppercase\n",
    "print(list1)\n",
    "print()\n",
    "\n",
    "print(\"b) Each letter of words in lowercase:\")\n",
    "list2= [word.lower() for word in words] #converts a string to lowercase\n",
    "print(list2)\n",
    "print()\n",
    "\n",
    "print(\"c) The list of lengths of words in list words \")\n",
    "list3 = [len(word) for word in words] # Gives length of each word\n",
    "print(list3)\n",
    "print()\n",
    "\n",
    "print(\"d) list for every word of list words, where each list contains the word in uppercase and lowercase and the length of the word:  \")\n",
    "list4 = [[word.upper(), word.lower(), len(word)] for word in words] \n",
    "print(list4)\n",
    "print()\n",
    "\n",
    "print(\"e) the list of words in list words containing 4 or more characters \")\n",
    "list5 = [word for word in words if len(word) >= 4] # Words with length >4\n",
    "print(list5)\n"
   ]
  },
  {
   "cell_type": "code",
   "execution_count": null,
   "id": "25c1e229",
   "metadata": {},
   "outputs": [],
   "source": [
    "\n"
   ]
  },
  {
   "cell_type": "code",
   "execution_count": null,
   "id": "e6d64731",
   "metadata": {},
   "outputs": [],
   "source": []
  }
 ],
 "metadata": {
  "kernelspec": {
   "display_name": "Python 3 (ipykernel)",
   "language": "python",
   "name": "python3"
  },
  "language_info": {
   "codemirror_mode": {
    "name": "ipython",
    "version": 3
   },
   "file_extension": ".py",
   "mimetype": "text/x-python",
   "name": "python",
   "nbconvert_exporter": "python",
   "pygments_lexer": "ipython3",
   "version": "3.11.5"
  }
 },
 "nbformat": 4,
 "nbformat_minor": 5
}
